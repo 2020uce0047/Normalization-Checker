{
  "nbformat": 4,
  "nbformat_minor": 0,
  "metadata": {
    "colab": {
      "provenance": []
    },
    "kernelspec": {
      "name": "python3",
      "display_name": "Python 3"
    },
    "language_info": {
      "name": "python"
    }
  },
  "cells": [
    {
      "cell_type": "code",
      "source": [
        "def subsets(s):\n",
        "   st_arr = []\n",
        "   s = ''.join(sorted(s))\n",
        "   for i in range(len(s)-1,-1,-1):\n",
        "      for j in range(len(st_arr)):\n",
        "         st_arr.append(s[i]+st_arr[j])\n",
        "      st_arr.append(s[i])\n",
        "   return st_arr"
      ],
      "metadata": {
        "id": "B0UPXz8IEEM4"
      },
      "execution_count": null,
      "outputs": []
    },
    {
      "cell_type": "code",
      "source": [
        "#Attribute Closure\n",
        "\n",
        "def attribute_closure(alpha, fd_list, schema):\n",
        "\n",
        "\n",
        "  alpha_ = ''.join(sorted(alpha))\n",
        "  m = 1\n",
        "  schema = ''.join(sorted(schema))\n",
        "  sch_subsets = subsets(schema)\n",
        "  while(m != alpha_):\n",
        "    m=alpha_\n",
        "    for i in fd_list:\n",
        "      p = ''.join(sorted(i[0]))\n",
        "      q = ''.join(sorted(i[1]))\n",
        "      x = [w for w in p]\n",
        "      y = [z for z in alpha_]\n",
        "      check =  all(item in y for item in x)\n",
        "      if(check == True):\n",
        "        if(q not in alpha_):\n",
        "          alpha_ = alpha_+q\n",
        "  actual_alpha_ = ''\n",
        "  for j in alpha_:\n",
        "    if(j in schema):\n",
        "      actual_alpha_ = actual_alpha_ + j\n",
        "\n",
        "  return ''.join(sorted(set(actual_alpha_)))"
      ],
      "metadata": {
        "id": "SbggrAooaWDD"
      },
      "execution_count": null,
      "outputs": []
    },
    {
      "cell_type": "code",
      "source": [
        "fd_list = [['a', 'bc'], ['cd', 'e'], ['b', 'd'], ['e', 'a']]\n",
        "print(attribute_closure('a',  fd_list, 'abcde'))\n",
        "print(attribute_closure('b',  fd_list, 'abcde'))\n",
        "print(attribute_closure('c',  fd_list, 'abcde'))\n",
        "print(attribute_closure('d',  fd_list, 'abcde'))\n",
        "fd_list = [['a', 'c'], ['ac', 'd'], ['ad', 'e']]\n",
        "attribute_closure('a', fd_list, 'acde')"
      ],
      "metadata": {
        "colab": {
          "base_uri": "https://localhost:8080/",
          "height": 107
        },
        "id": "t1kzqYcMGWVX",
        "outputId": "fb35250a-a376-4e01-ae7e-f6e2b4bdf40b"
      },
      "execution_count": null,
      "outputs": [
        {
          "output_type": "stream",
          "name": "stdout",
          "text": [
            "abcde\n",
            "bd\n",
            "c\n",
            "d\n"
          ]
        },
        {
          "output_type": "execute_result",
          "data": {
            "text/plain": [
              "'acde'"
            ],
            "application/vnd.google.colaboratory.intrinsic+json": {
              "type": "string"
            }
          },
          "metadata": {},
          "execution_count": 12
        }
      ]
    },
    {
      "cell_type": "code",
      "source": [
        "# Total closure\n",
        "\n",
        "def total_closure(fd_list, schema):\n",
        "\n",
        "  substr = subsets(schema)\n",
        "  k = fd_list\n",
        "  for i in substr:\n",
        "    a_closure = attribute_closure(i, fd_list, schema)\n",
        "    sub = subsets(a_closure)\n",
        "    for j in sub:\n",
        "      k.append([i, j])\n",
        "  return k\n"
      ],
      "metadata": {
        "id": "Weg4P6VLAqAp"
      },
      "execution_count": null,
      "outputs": []
    },
    {
      "cell_type": "code",
      "source": [
        "fd_list = [['a', 'bc'], ['cd', 'e'], ['b', 'd'], ['e', 'a']]\n",
        "print(total_closure(fd_list, 'abcde'))"
      ],
      "metadata": {
        "colab": {
          "base_uri": "https://localhost:8080/"
        },
        "id": "i-Uw_TJqFaL2",
        "outputId": "aad78b25-ce11-4d03-859f-aeef54ff3f5f"
      },
      "execution_count": null,
      "outputs": [
        {
          "output_type": "stream",
          "name": "stdout",
          "text": [
            "[['a', 'bc'], ['cd', 'e'], ['b', 'd'], ['e', 'a'], ['e', 'e'], ['e', 'de'], ['e', 'd'], ['e', 'ce'], ['e', 'cde'], ['e', 'cd'], ['e', 'c'], ['e', 'be'], ['e', 'bde'], ['e', 'bd'], ['e', 'bce'], ['e', 'bcde'], ['e', 'bcd'], ['e', 'bc'], ['e', 'b'], ['e', 'ae'], ['e', 'ade'], ['e', 'ad'], ['e', 'ace'], ['e', 'acde'], ['e', 'acd'], ['e', 'ac'], ['e', 'abe'], ['e', 'abde'], ['e', 'abd'], ['e', 'abce'], ['e', 'abcde'], ['e', 'abcd'], ['e', 'abc'], ['e', 'ab'], ['e', 'a'], ['de', 'e'], ['de', 'de'], ['de', 'd'], ['de', 'ce'], ['de', 'cde'], ['de', 'cd'], ['de', 'c'], ['de', 'be'], ['de', 'bde'], ['de', 'bd'], ['de', 'bce'], ['de', 'bcde'], ['de', 'bcd'], ['de', 'bc'], ['de', 'b'], ['de', 'ae'], ['de', 'ade'], ['de', 'ad'], ['de', 'ace'], ['de', 'acde'], ['de', 'acd'], ['de', 'ac'], ['de', 'abe'], ['de', 'abde'], ['de', 'abd'], ['de', 'abce'], ['de', 'abcde'], ['de', 'abcd'], ['de', 'abc'], ['de', 'ab'], ['de', 'a'], ['d', 'd'], ['ce', 'e'], ['ce', 'de'], ['ce', 'd'], ['ce', 'ce'], ['ce', 'cde'], ['ce', 'cd'], ['ce', 'c'], ['ce', 'be'], ['ce', 'bde'], ['ce', 'bd'], ['ce', 'bce'], ['ce', 'bcde'], ['ce', 'bcd'], ['ce', 'bc'], ['ce', 'b'], ['ce', 'ae'], ['ce', 'ade'], ['ce', 'ad'], ['ce', 'ace'], ['ce', 'acde'], ['ce', 'acd'], ['ce', 'ac'], ['ce', 'abe'], ['ce', 'abde'], ['ce', 'abd'], ['ce', 'abce'], ['ce', 'abcde'], ['ce', 'abcd'], ['ce', 'abc'], ['ce', 'ab'], ['ce', 'a'], ['cde', 'e'], ['cde', 'de'], ['cde', 'd'], ['cde', 'ce'], ['cde', 'cde'], ['cde', 'cd'], ['cde', 'c'], ['cde', 'be'], ['cde', 'bde'], ['cde', 'bd'], ['cde', 'bce'], ['cde', 'bcde'], ['cde', 'bcd'], ['cde', 'bc'], ['cde', 'b'], ['cde', 'ae'], ['cde', 'ade'], ['cde', 'ad'], ['cde', 'ace'], ['cde', 'acde'], ['cde', 'acd'], ['cde', 'ac'], ['cde', 'abe'], ['cde', 'abde'], ['cde', 'abd'], ['cde', 'abce'], ['cde', 'abcde'], ['cde', 'abcd'], ['cde', 'abc'], ['cde', 'ab'], ['cde', 'a'], ['cd', 'e'], ['cd', 'de'], ['cd', 'd'], ['cd', 'ce'], ['cd', 'cde'], ['cd', 'cd'], ['cd', 'c'], ['cd', 'be'], ['cd', 'bde'], ['cd', 'bd'], ['cd', 'bce'], ['cd', 'bcde'], ['cd', 'bcd'], ['cd', 'bc'], ['cd', 'b'], ['cd', 'ae'], ['cd', 'ade'], ['cd', 'ad'], ['cd', 'ace'], ['cd', 'acde'], ['cd', 'acd'], ['cd', 'ac'], ['cd', 'abe'], ['cd', 'abde'], ['cd', 'abd'], ['cd', 'abce'], ['cd', 'abcde'], ['cd', 'abcd'], ['cd', 'abc'], ['cd', 'ab'], ['cd', 'a'], ['c', 'c'], ['be', 'e'], ['be', 'de'], ['be', 'd'], ['be', 'ce'], ['be', 'cde'], ['be', 'cd'], ['be', 'c'], ['be', 'be'], ['be', 'bde'], ['be', 'bd'], ['be', 'bce'], ['be', 'bcde'], ['be', 'bcd'], ['be', 'bc'], ['be', 'b'], ['be', 'ae'], ['be', 'ade'], ['be', 'ad'], ['be', 'ace'], ['be', 'acde'], ['be', 'acd'], ['be', 'ac'], ['be', 'abe'], ['be', 'abde'], ['be', 'abd'], ['be', 'abce'], ['be', 'abcde'], ['be', 'abcd'], ['be', 'abc'], ['be', 'ab'], ['be', 'a'], ['bde', 'e'], ['bde', 'de'], ['bde', 'd'], ['bde', 'ce'], ['bde', 'cde'], ['bde', 'cd'], ['bde', 'c'], ['bde', 'be'], ['bde', 'bde'], ['bde', 'bd'], ['bde', 'bce'], ['bde', 'bcde'], ['bde', 'bcd'], ['bde', 'bc'], ['bde', 'b'], ['bde', 'ae'], ['bde', 'ade'], ['bde', 'ad'], ['bde', 'ace'], ['bde', 'acde'], ['bde', 'acd'], ['bde', 'ac'], ['bde', 'abe'], ['bde', 'abde'], ['bde', 'abd'], ['bde', 'abce'], ['bde', 'abcde'], ['bde', 'abcd'], ['bde', 'abc'], ['bde', 'ab'], ['bde', 'a'], ['bd', 'd'], ['bd', 'bd'], ['bd', 'b'], ['bce', 'e'], ['bce', 'de'], ['bce', 'd'], ['bce', 'ce'], ['bce', 'cde'], ['bce', 'cd'], ['bce', 'c'], ['bce', 'be'], ['bce', 'bde'], ['bce', 'bd'], ['bce', 'bce'], ['bce', 'bcde'], ['bce', 'bcd'], ['bce', 'bc'], ['bce', 'b'], ['bce', 'ae'], ['bce', 'ade'], ['bce', 'ad'], ['bce', 'ace'], ['bce', 'acde'], ['bce', 'acd'], ['bce', 'ac'], ['bce', 'abe'], ['bce', 'abde'], ['bce', 'abd'], ['bce', 'abce'], ['bce', 'abcde'], ['bce', 'abcd'], ['bce', 'abc'], ['bce', 'ab'], ['bce', 'a'], ['bcde', 'e'], ['bcde', 'de'], ['bcde', 'd'], ['bcde', 'ce'], ['bcde', 'cde'], ['bcde', 'cd'], ['bcde', 'c'], ['bcde', 'be'], ['bcde', 'bde'], ['bcde', 'bd'], ['bcde', 'bce'], ['bcde', 'bcde'], ['bcde', 'bcd'], ['bcde', 'bc'], ['bcde', 'b'], ['bcde', 'ae'], ['bcde', 'ade'], ['bcde', 'ad'], ['bcde', 'ace'], ['bcde', 'acde'], ['bcde', 'acd'], ['bcde', 'ac'], ['bcde', 'abe'], ['bcde', 'abde'], ['bcde', 'abd'], ['bcde', 'abce'], ['bcde', 'abcde'], ['bcde', 'abcd'], ['bcde', 'abc'], ['bcde', 'ab'], ['bcde', 'a'], ['bcd', 'e'], ['bcd', 'de'], ['bcd', 'd'], ['bcd', 'ce'], ['bcd', 'cde'], ['bcd', 'cd'], ['bcd', 'c'], ['bcd', 'be'], ['bcd', 'bde'], ['bcd', 'bd'], ['bcd', 'bce'], ['bcd', 'bcde'], ['bcd', 'bcd'], ['bcd', 'bc'], ['bcd', 'b'], ['bcd', 'ae'], ['bcd', 'ade'], ['bcd', 'ad'], ['bcd', 'ace'], ['bcd', 'acde'], ['bcd', 'acd'], ['bcd', 'ac'], ['bcd', 'abe'], ['bcd', 'abde'], ['bcd', 'abd'], ['bcd', 'abce'], ['bcd', 'abcde'], ['bcd', 'abcd'], ['bcd', 'abc'], ['bcd', 'ab'], ['bcd', 'a'], ['bc', 'e'], ['bc', 'de'], ['bc', 'd'], ['bc', 'ce'], ['bc', 'cde'], ['bc', 'cd'], ['bc', 'c'], ['bc', 'be'], ['bc', 'bde'], ['bc', 'bd'], ['bc', 'bce'], ['bc', 'bcde'], ['bc', 'bcd'], ['bc', 'bc'], ['bc', 'b'], ['bc', 'ae'], ['bc', 'ade'], ['bc', 'ad'], ['bc', 'ace'], ['bc', 'acde'], ['bc', 'acd'], ['bc', 'ac'], ['bc', 'abe'], ['bc', 'abde'], ['bc', 'abd'], ['bc', 'abce'], ['bc', 'abcde'], ['bc', 'abcd'], ['bc', 'abc'], ['bc', 'ab'], ['bc', 'a'], ['b', 'd'], ['b', 'bd'], ['b', 'b'], ['ae', 'e'], ['ae', 'de'], ['ae', 'd'], ['ae', 'ce'], ['ae', 'cde'], ['ae', 'cd'], ['ae', 'c'], ['ae', 'be'], ['ae', 'bde'], ['ae', 'bd'], ['ae', 'bce'], ['ae', 'bcde'], ['ae', 'bcd'], ['ae', 'bc'], ['ae', 'b'], ['ae', 'ae'], ['ae', 'ade'], ['ae', 'ad'], ['ae', 'ace'], ['ae', 'acde'], ['ae', 'acd'], ['ae', 'ac'], ['ae', 'abe'], ['ae', 'abde'], ['ae', 'abd'], ['ae', 'abce'], ['ae', 'abcde'], ['ae', 'abcd'], ['ae', 'abc'], ['ae', 'ab'], ['ae', 'a'], ['ade', 'e'], ['ade', 'de'], ['ade', 'd'], ['ade', 'ce'], ['ade', 'cde'], ['ade', 'cd'], ['ade', 'c'], ['ade', 'be'], ['ade', 'bde'], ['ade', 'bd'], ['ade', 'bce'], ['ade', 'bcde'], ['ade', 'bcd'], ['ade', 'bc'], ['ade', 'b'], ['ade', 'ae'], ['ade', 'ade'], ['ade', 'ad'], ['ade', 'ace'], ['ade', 'acde'], ['ade', 'acd'], ['ade', 'ac'], ['ade', 'abe'], ['ade', 'abde'], ['ade', 'abd'], ['ade', 'abce'], ['ade', 'abcde'], ['ade', 'abcd'], ['ade', 'abc'], ['ade', 'ab'], ['ade', 'a'], ['ad', 'e'], ['ad', 'de'], ['ad', 'd'], ['ad', 'ce'], ['ad', 'cde'], ['ad', 'cd'], ['ad', 'c'], ['ad', 'be'], ['ad', 'bde'], ['ad', 'bd'], ['ad', 'bce'], ['ad', 'bcde'], ['ad', 'bcd'], ['ad', 'bc'], ['ad', 'b'], ['ad', 'ae'], ['ad', 'ade'], ['ad', 'ad'], ['ad', 'ace'], ['ad', 'acde'], ['ad', 'acd'], ['ad', 'ac'], ['ad', 'abe'], ['ad', 'abde'], ['ad', 'abd'], ['ad', 'abce'], ['ad', 'abcde'], ['ad', 'abcd'], ['ad', 'abc'], ['ad', 'ab'], ['ad', 'a'], ['ace', 'e'], ['ace', 'de'], ['ace', 'd'], ['ace', 'ce'], ['ace', 'cde'], ['ace', 'cd'], ['ace', 'c'], ['ace', 'be'], ['ace', 'bde'], ['ace', 'bd'], ['ace', 'bce'], ['ace', 'bcde'], ['ace', 'bcd'], ['ace', 'bc'], ['ace', 'b'], ['ace', 'ae'], ['ace', 'ade'], ['ace', 'ad'], ['ace', 'ace'], ['ace', 'acde'], ['ace', 'acd'], ['ace', 'ac'], ['ace', 'abe'], ['ace', 'abde'], ['ace', 'abd'], ['ace', 'abce'], ['ace', 'abcde'], ['ace', 'abcd'], ['ace', 'abc'], ['ace', 'ab'], ['ace', 'a'], ['acde', 'e'], ['acde', 'de'], ['acde', 'd'], ['acde', 'ce'], ['acde', 'cde'], ['acde', 'cd'], ['acde', 'c'], ['acde', 'be'], ['acde', 'bde'], ['acde', 'bd'], ['acde', 'bce'], ['acde', 'bcde'], ['acde', 'bcd'], ['acde', 'bc'], ['acde', 'b'], ['acde', 'ae'], ['acde', 'ade'], ['acde', 'ad'], ['acde', 'ace'], ['acde', 'acde'], ['acde', 'acd'], ['acde', 'ac'], ['acde', 'abe'], ['acde', 'abde'], ['acde', 'abd'], ['acde', 'abce'], ['acde', 'abcde'], ['acde', 'abcd'], ['acde', 'abc'], ['acde', 'ab'], ['acde', 'a'], ['acd', 'e'], ['acd', 'de'], ['acd', 'd'], ['acd', 'ce'], ['acd', 'cde'], ['acd', 'cd'], ['acd', 'c'], ['acd', 'be'], ['acd', 'bde'], ['acd', 'bd'], ['acd', 'bce'], ['acd', 'bcde'], ['acd', 'bcd'], ['acd', 'bc'], ['acd', 'b'], ['acd', 'ae'], ['acd', 'ade'], ['acd', 'ad'], ['acd', 'ace'], ['acd', 'acde'], ['acd', 'acd'], ['acd', 'ac'], ['acd', 'abe'], ['acd', 'abde'], ['acd', 'abd'], ['acd', 'abce'], ['acd', 'abcde'], ['acd', 'abcd'], ['acd', 'abc'], ['acd', 'ab'], ['acd', 'a'], ['ac', 'e'], ['ac', 'de'], ['ac', 'd'], ['ac', 'ce'], ['ac', 'cde'], ['ac', 'cd'], ['ac', 'c'], ['ac', 'be'], ['ac', 'bde'], ['ac', 'bd'], ['ac', 'bce'], ['ac', 'bcde'], ['ac', 'bcd'], ['ac', 'bc'], ['ac', 'b'], ['ac', 'ae'], ['ac', 'ade'], ['ac', 'ad'], ['ac', 'ace'], ['ac', 'acde'], ['ac', 'acd'], ['ac', 'ac'], ['ac', 'abe'], ['ac', 'abde'], ['ac', 'abd'], ['ac', 'abce'], ['ac', 'abcde'], ['ac', 'abcd'], ['ac', 'abc'], ['ac', 'ab'], ['ac', 'a'], ['abe', 'e'], ['abe', 'de'], ['abe', 'd'], ['abe', 'ce'], ['abe', 'cde'], ['abe', 'cd'], ['abe', 'c'], ['abe', 'be'], ['abe', 'bde'], ['abe', 'bd'], ['abe', 'bce'], ['abe', 'bcde'], ['abe', 'bcd'], ['abe', 'bc'], ['abe', 'b'], ['abe', 'ae'], ['abe', 'ade'], ['abe', 'ad'], ['abe', 'ace'], ['abe', 'acde'], ['abe', 'acd'], ['abe', 'ac'], ['abe', 'abe'], ['abe', 'abde'], ['abe', 'abd'], ['abe', 'abce'], ['abe', 'abcde'], ['abe', 'abcd'], ['abe', 'abc'], ['abe', 'ab'], ['abe', 'a'], ['abde', 'e'], ['abde', 'de'], ['abde', 'd'], ['abde', 'ce'], ['abde', 'cde'], ['abde', 'cd'], ['abde', 'c'], ['abde', 'be'], ['abde', 'bde'], ['abde', 'bd'], ['abde', 'bce'], ['abde', 'bcde'], ['abde', 'bcd'], ['abde', 'bc'], ['abde', 'b'], ['abde', 'ae'], ['abde', 'ade'], ['abde', 'ad'], ['abde', 'ace'], ['abde', 'acde'], ['abde', 'acd'], ['abde', 'ac'], ['abde', 'abe'], ['abde', 'abde'], ['abde', 'abd'], ['abde', 'abce'], ['abde', 'abcde'], ['abde', 'abcd'], ['abde', 'abc'], ['abde', 'ab'], ['abde', 'a'], ['abd', 'e'], ['abd', 'de'], ['abd', 'd'], ['abd', 'ce'], ['abd', 'cde'], ['abd', 'cd'], ['abd', 'c'], ['abd', 'be'], ['abd', 'bde'], ['abd', 'bd'], ['abd', 'bce'], ['abd', 'bcde'], ['abd', 'bcd'], ['abd', 'bc'], ['abd', 'b'], ['abd', 'ae'], ['abd', 'ade'], ['abd', 'ad'], ['abd', 'ace'], ['abd', 'acde'], ['abd', 'acd'], ['abd', 'ac'], ['abd', 'abe'], ['abd', 'abde'], ['abd', 'abd'], ['abd', 'abce'], ['abd', 'abcde'], ['abd', 'abcd'], ['abd', 'abc'], ['abd', 'ab'], ['abd', 'a'], ['abce', 'e'], ['abce', 'de'], ['abce', 'd'], ['abce', 'ce'], ['abce', 'cde'], ['abce', 'cd'], ['abce', 'c'], ['abce', 'be'], ['abce', 'bde'], ['abce', 'bd'], ['abce', 'bce'], ['abce', 'bcde'], ['abce', 'bcd'], ['abce', 'bc'], ['abce', 'b'], ['abce', 'ae'], ['abce', 'ade'], ['abce', 'ad'], ['abce', 'ace'], ['abce', 'acde'], ['abce', 'acd'], ['abce', 'ac'], ['abce', 'abe'], ['abce', 'abde'], ['abce', 'abd'], ['abce', 'abce'], ['abce', 'abcde'], ['abce', 'abcd'], ['abce', 'abc'], ['abce', 'ab'], ['abce', 'a'], ['abcde', 'e'], ['abcde', 'de'], ['abcde', 'd'], ['abcde', 'ce'], ['abcde', 'cde'], ['abcde', 'cd'], ['abcde', 'c'], ['abcde', 'be'], ['abcde', 'bde'], ['abcde', 'bd'], ['abcde', 'bce'], ['abcde', 'bcde'], ['abcde', 'bcd'], ['abcde', 'bc'], ['abcde', 'b'], ['abcde', 'ae'], ['abcde', 'ade'], ['abcde', 'ad'], ['abcde', 'ace'], ['abcde', 'acde'], ['abcde', 'acd'], ['abcde', 'ac'], ['abcde', 'abe'], ['abcde', 'abde'], ['abcde', 'abd'], ['abcde', 'abce'], ['abcde', 'abcde'], ['abcde', 'abcd'], ['abcde', 'abc'], ['abcde', 'ab'], ['abcde', 'a'], ['abcd', 'e'], ['abcd', 'de'], ['abcd', 'd'], ['abcd', 'ce'], ['abcd', 'cde'], ['abcd', 'cd'], ['abcd', 'c'], ['abcd', 'be'], ['abcd', 'bde'], ['abcd', 'bd'], ['abcd', 'bce'], ['abcd', 'bcde'], ['abcd', 'bcd'], ['abcd', 'bc'], ['abcd', 'b'], ['abcd', 'ae'], ['abcd', 'ade'], ['abcd', 'ad'], ['abcd', 'ace'], ['abcd', 'acde'], ['abcd', 'acd'], ['abcd', 'ac'], ['abcd', 'abe'], ['abcd', 'abde'], ['abcd', 'abd'], ['abcd', 'abce'], ['abcd', 'abcde'], ['abcd', 'abcd'], ['abcd', 'abc'], ['abcd', 'ab'], ['abcd', 'a'], ['abc', 'e'], ['abc', 'de'], ['abc', 'd'], ['abc', 'ce'], ['abc', 'cde'], ['abc', 'cd'], ['abc', 'c'], ['abc', 'be'], ['abc', 'bde'], ['abc', 'bd'], ['abc', 'bce'], ['abc', 'bcde'], ['abc', 'bcd'], ['abc', 'bc'], ['abc', 'b'], ['abc', 'ae'], ['abc', 'ade'], ['abc', 'ad'], ['abc', 'ace'], ['abc', 'acde'], ['abc', 'acd'], ['abc', 'ac'], ['abc', 'abe'], ['abc', 'abde'], ['abc', 'abd'], ['abc', 'abce'], ['abc', 'abcde'], ['abc', 'abcd'], ['abc', 'abc'], ['abc', 'ab'], ['abc', 'a'], ['ab', 'e'], ['ab', 'de'], ['ab', 'd'], ['ab', 'ce'], ['ab', 'cde'], ['ab', 'cd'], ['ab', 'c'], ['ab', 'be'], ['ab', 'bde'], ['ab', 'bd'], ['ab', 'bce'], ['ab', 'bcde'], ['ab', 'bcd'], ['ab', 'bc'], ['ab', 'b'], ['ab', 'ae'], ['ab', 'ade'], ['ab', 'ad'], ['ab', 'ace'], ['ab', 'acde'], ['ab', 'acd'], ['ab', 'ac'], ['ab', 'abe'], ['ab', 'abde'], ['ab', 'abd'], ['ab', 'abce'], ['ab', 'abcde'], ['ab', 'abcd'], ['ab', 'abc'], ['ab', 'ab'], ['ab', 'a'], ['a', 'e'], ['a', 'de'], ['a', 'd'], ['a', 'ce'], ['a', 'cde'], ['a', 'cd'], ['a', 'c'], ['a', 'be'], ['a', 'bde'], ['a', 'bd'], ['a', 'bce'], ['a', 'bcde'], ['a', 'bcd'], ['a', 'bc'], ['a', 'b'], ['a', 'ae'], ['a', 'ade'], ['a', 'ad'], ['a', 'ace'], ['a', 'acde'], ['a', 'acd'], ['a', 'ac'], ['a', 'abe'], ['a', 'abde'], ['a', 'abd'], ['a', 'abce'], ['a', 'abcde'], ['a', 'abcd'], ['a', 'abc'], ['a', 'ab'], ['a', 'a']]\n"
          ]
        }
      ]
    },
    {
      "cell_type": "code",
      "source": [
        "#CHECK ALPHA->BETA HOLDS!\n",
        "\n",
        "\n",
        "def alpha_to_beta_hold(alpha, beta, fd_list, schema):\n",
        "  alpha_closure = attribute_closure(alpha, fd_list, schema)\n",
        "  beta = ''.join(sorted(beta))\n",
        "  schema = ''.join(sorted(schema))\n",
        "  if(beta in alpha_closure):\n",
        "    return True\n",
        "  return False\n"
      ],
      "metadata": {
        "id": "OzUK9U6p1EBP"
      },
      "execution_count": null,
      "outputs": []
    },
    {
      "cell_type": "code",
      "source": [
        "alpha_to_beta_hold('b', 'd', fd_list, 'abcde')"
      ],
      "metadata": {
        "id": "_uNzj1KN10rh",
        "colab": {
          "base_uri": "https://localhost:8080/"
        },
        "outputId": "ecd5579f-5281-4223-809d-723fa6e0d330"
      },
      "execution_count": null,
      "outputs": [
        {
          "output_type": "execute_result",
          "data": {
            "text/plain": [
              "True"
            ]
          },
          "metadata": {},
          "execution_count": 16
        }
      ]
    },
    {
      "cell_type": "code",
      "source": [
        "# check second normal form\n",
        "def candidateKey(fd_list, schema):\n",
        "  totalClosure = total_closure(fd_list, schema)\n",
        "  superkeys = []\n",
        "  schema = ''.join(sorted(schema))\n",
        "  #superkeys\n",
        "  for i in totalClosure:\n",
        "    sort = ''.join(sorted(i[1]))\n",
        "    if(sort == schema and i[0] not in superkeys):\n",
        "      superkeys.append(''.join(sorted(i[0])))\n",
        "  #candidate_keys\n",
        "  candidate_keys = superkeys\n",
        "  superkeys = sorted(superkeys, key=len)\n",
        "  for k in superkeys:\n",
        "    poss = subsets(k)\n",
        "    for j in poss:\n",
        "      if(j in candidate_keys and j != k):\n",
        "        candidate_keys.remove(k)\n",
        "        break\n",
        "  return candidate_keys\n",
        "\n",
        "\n",
        "\n",
        "def non_prime_attributes(fd_list, schema):\n",
        "  prime_attributes = []\n",
        "  non_prime_attributes = []\n",
        "  c_keys = candidateKey(fd_list, schema)\n",
        "  for i in schema:\n",
        "    for j in c_keys:\n",
        "      if(i in j and i not in prime_attributes):\n",
        "        prime_attributes.append(i)\n",
        "  for k in schema:\n",
        "    if(k not in prime_attributes):\n",
        "      non_prime_attributes.append(k)\n",
        "  return non_prime_attributes\n",
        "\n",
        "\n",
        "\n",
        "\n",
        "def secondNormal(fd_list, schema, primary_key):\n",
        "  primary_key = ''.join(sorted(primary_key))\n",
        "  schema = ''.join(sorted(schema))\n",
        "  if(primary_key == schema or len(non_prime_attributes(fd_list, schema))==0):\n",
        "    return 'Relation is in 2NF'\n",
        "  sub_primary = subsets(primary_key)\n",
        "  sub_primary.remove(primary_key)\n",
        "  for i in sub_primary:\n",
        "    i_closure = attribute_closure(i, fd_list, schema)\n",
        "    for j in i_closure:\n",
        "      if(j in non_prime_attributes(fd_list, schema)):\n",
        "        return 'Not in 2NF'\n",
        "  return 'Relation is in 2NF'\n"
      ],
      "metadata": {
        "id": "r29AYQAMD6mi"
      },
      "execution_count": null,
      "outputs": []
    },
    {
      "cell_type": "code",
      "source": [
        "fd_list = [['u', 'na']]\n",
        "secondNormal(fd_list, 'una', 'u')"
      ],
      "metadata": {
        "id": "8AGxbxtwD_Le",
        "colab": {
          "base_uri": "https://localhost:8080/",
          "height": 36
        },
        "outputId": "7e100fae-f103-4522-e972-49f810d9b9de"
      },
      "execution_count": null,
      "outputs": [
        {
          "output_type": "execute_result",
          "data": {
            "text/plain": [
              "'Relation is in 2NF'"
            ],
            "application/vnd.google.colaboratory.intrinsic+json": {
              "type": "string"
            }
          },
          "metadata": {},
          "execution_count": 25
        }
      ]
    },
    {
      "cell_type": "code",
      "source": [
        "fd_list = [['b', 'acde'], ['e', 'fg']]\n",
        "secondNormal(fd_list, 'abcdefg', 'b')"
      ],
      "metadata": {
        "id": "YXLJdJPy_1_x",
        "colab": {
          "base_uri": "https://localhost:8080/",
          "height": 36
        },
        "outputId": "1e311859-faa3-4d7a-c12d-2df8db6d101b"
      },
      "execution_count": null,
      "outputs": [
        {
          "output_type": "execute_result",
          "data": {
            "text/plain": [
              "'Relation is in 2NF'"
            ],
            "application/vnd.google.colaboratory.intrinsic+json": {
              "type": "string"
            }
          },
          "metadata": {},
          "execution_count": 19
        }
      ]
    },
    {
      "cell_type": "code",
      "source": [
        "non_prime_attributes(fd_list, 'abcde')"
      ],
      "metadata": {
        "id": "wpvN4d1gBKhV",
        "colab": {
          "base_uri": "https://localhost:8080/"
        },
        "outputId": "467d290f-5a74-4667-ffc3-446790e8325f"
      },
      "execution_count": null,
      "outputs": [
        {
          "output_type": "execute_result",
          "data": {
            "text/plain": [
              "['a', 'c', 'd', 'e']"
            ]
          },
          "metadata": {},
          "execution_count": 20
        }
      ]
    },
    {
      "cell_type": "code",
      "source": [
        "#Third Normal Form\n",
        "\n",
        "def thirdNormal(fd_list, schema):\n",
        "  schema = ''.join(sorted(schema))\n",
        "  c_keys = candidateKey(fd_list, schema)\n",
        "  non_c = ''\n",
        "  for i in schema:\n",
        "    for j in c_keys:\n",
        "      if(i not in j):\n",
        "        non_c = non_c + i\n",
        "  poss_nc = subsets(non_c)\n",
        "  for k in poss_nc:\n",
        "    k_closure = attribute_closure(k, fd_list, schema)\n",
        "    if(k_closure != k):\n",
        "      return 'Relation is not in 3NF'\n",
        "  \n",
        "  return 'Relation is in 3NF'"
      ],
      "metadata": {
        "id": "jLDS_G6G-yQp"
      },
      "execution_count": null,
      "outputs": []
    },
    {
      "cell_type": "code",
      "source": [
        "fd_list = [['b', 'acde'], ['e', 'fg']]\n",
        "thirdNormal(fd_list, 'abcde')"
      ],
      "metadata": {
        "id": "fnUkgmpXOdkD",
        "colab": {
          "base_uri": "https://localhost:8080/",
          "height": 36
        },
        "outputId": "4ea32f0f-8223-44c0-8ed0-623c41bb2ce2"
      },
      "execution_count": null,
      "outputs": [
        {
          "output_type": "execute_result",
          "data": {
            "text/plain": [
              "'Relation is in 3NF'"
            ],
            "application/vnd.google.colaboratory.intrinsic+json": {
              "type": "string"
            }
          },
          "metadata": {},
          "execution_count": 22
        }
      ]
    },
    {
      "cell_type": "code",
      "source": [
        "#CHECK BCNF\n",
        "def superKey(fd_list, schema):\n",
        "  totalClosure = total_closure(fd_list, schema)\n",
        "  superkeys = []\n",
        "  schema = ''.join(sorted(schema))\n",
        "  #superkeys\n",
        "  for i in totalClosure:\n",
        "    sort = ''.join(sorted(i[1]))\n",
        "    if(sort == schema and i[0] not in superkeys):\n",
        "      superkeys.append(''.join(sorted(i[0])))\n",
        "\n",
        "  return superkeys\n",
        "\n",
        "\n",
        "def bcNormal(fd_list, schema):\n",
        "  s_keys = superKey(fd_list, schema)\n",
        "  s_schema = subsets(schema)\n",
        "  for i in s_schema:\n",
        "    i_closure = attribute_closure(i, fd_list, schema)\n",
        "    i_closure = i_closure.replace(i, '')\n",
        "    if(i not in s_keys and i_closure != ''):\n",
        "      return 'Relation not in BCNF'\n",
        "  return 'Relation is in BCNF'\n"
      ],
      "metadata": {
        "id": "tWvZ5_V38ODk"
      },
      "execution_count": null,
      "outputs": []
    },
    {
      "cell_type": "code",
      "source": [
        "fd_list = [['up', 'q']]\n",
        "print(secondNormal(fd_list, 'upq', 'up'))\n",
        "print(thirdNormal(fd_list, 'up'))\n",
        "print(bcNormal(fd_list, 'up'))"
      ],
      "metadata": {
        "id": "9-Frujuj_BK0",
        "colab": {
          "base_uri": "https://localhost:8080/"
        },
        "outputId": "51092d6e-2ead-4685-9915-5a969d9a9338"
      },
      "execution_count": null,
      "outputs": [
        {
          "output_type": "stream",
          "name": "stdout",
          "text": [
            "Relation is in 2NF\n",
            "Relation is in 3NF\n",
            "Relation is in BCNF\n"
          ]
        }
      ]
    }
  ]
}
